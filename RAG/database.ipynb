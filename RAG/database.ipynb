{
 "cells": [
  {
   "cell_type": "code",
   "execution_count": 6,
   "id": "a5cf2891",
   "metadata": {},
   "outputs": [],
   "source": [
    "import numpy as np\n",
    "import pandas as pd"
   ]
  },
  {
   "cell_type": "code",
   "execution_count": 7,
   "id": "555b1011",
   "metadata": {},
   "outputs": [
    {
     "name": "stdout",
     "output_type": "stream",
     "text": [
      "<class 'pandas.core.frame.DataFrame'>\n",
      "RangeIndex: 9999 entries, 0 to 9998\n",
      "Data columns (total 22 columns):\n",
      " #   Column                   Non-Null Count  Dtype  \n",
      "---  ------                   --------------  -----  \n",
      " 0   Age                      9999 non-null   int64  \n",
      " 1   Gender                   9999 non-null   object \n",
      " 2   Marital Status           9999 non-null   object \n",
      " 3   Dependents               9999 non-null   int64  \n",
      " 4   Employment               9999 non-null   object \n",
      " 5   Income (₹)               9999 non-null   int64  \n",
      " 6   Years in Job             9999 non-null   int64  \n",
      " 7   Credit Score             9999 non-null   int64  \n",
      " 8   Active Loans             9999 non-null   int64  \n",
      " 9   Missed Payments (12M)    9999 non-null   int64  \n",
      " 10  Loan Amount (₹)          9999 non-null   int64  \n",
      " 11  LTV (%)                  9999 non-null   int64  \n",
      " 12  DTI (%)                  9999 non-null   int64  \n",
      " 13  Loan Tenure (yrs)        9999 non-null   int64  \n",
      " 14  Repayment Type           9999 non-null   object \n",
      " 15  Co-applicant Present     9999 non-null   object \n",
      " 16  Co-applicant Income (₹)  9999 non-null   int64  \n",
      " 17  Existing Customer        9999 non-null   object \n",
      " 18  Salary Account           9999 non-null   object \n",
      " 19  Base Rate Type           9999 non-null   object \n",
      " 20  Base Rate (%)            9999 non-null   float64\n",
      " 21  Dynamic Rate (%)         9999 non-null   float64\n",
      "dtypes: float64(2), int64(12), object(8)\n",
      "memory usage: 1.7+ MB\n"
     ]
    }
   ],
   "source": [
    "ds=pd.read_csv(r\"C:\\Users\\guna5\\OneDrive\\Desktop\\HOME-LOAN\\DataSets\\updated-dataset.csv\")\n",
    "ds.info()"
   ]
  },
  {
   "cell_type": "code",
   "execution_count": 8,
   "id": "c5dd178e",
   "metadata": {},
   "outputs": [
    {
     "name": "stdout",
     "output_type": "stream",
     "text": [
      "(35, 'Male', 'Widowed', 0, 'Part-time', 440000, 9, 647, 5, 0, 2830000, 76, 28, 17, 'Step-up EMI', 'Yes', 1790000, 'Yes', 'Yes', 'Floating', 6.5, 8.9)\n",
      "(65, 'Male', 'Widowed', 0, 'Retired', 450000, 35, 681, 4, 1, 1140000, 70, 32, 13, 'Standard EMI', 'Yes', 1930000, 'No', 'No', 'Fixed', 6.5, 10.09)\n",
      "(28, 'Female', 'Single', 1, 'Contractual', 450000, 5, 620, 3, 0, 1170000, 86, 44, 29, 'Step-up EMI', 'No', 1560000, 'Yes', 'Yes', 'Fixed', 6.5, 8.59)\n",
      "(63, 'Female', 'Widowed', 1, 'Contractual', 720000, 8, 708, 5, 1, 1130000, 57, 30, 9, 'Standard EMI', 'No', 1350000, 'No', 'Yes', 'Floating', 6.5, 6.33)\n",
      "(51, 'Female', 'Married', 2, 'Part-time', 880000, 1, 696, 4, 2, 2150000, 80, 31, 25, 'Standard EMI', 'Yes', 940000, 'No', 'No', 'Fixed', 6.5, 8.4)\n"
     ]
    }
   ],
   "source": [
    "import pandas as pd\n",
    "import sqlite3\n",
    "import os\n",
    "\n",
    "csv_file = r\"C:\\Users\\guna5\\OneDrive\\Desktop\\HOME-LOAN\\DataSets\\updated-dataset.csv\"\n",
    "df = pd.read_csv(csv_file)\n",
    "\n",
    "db_name = 'my_database.db'\n",
    "if os.path.exists(db_name):\n",
    "    os.remove(db_name)\n",
    "\n",
    "conn = sqlite3.connect(db_name)\n",
    "cursor = conn.cursor()\n",
    "\n",
    "create_table_query = '''\n",
    "CREATE TABLE home (\n",
    "    Age INTEGER,\n",
    "    Gender TEXT,\n",
    "    \"Marital Status\" TEXT,\n",
    "    Dependents INTEGER,\n",
    "    Employment TEXT,\n",
    "    \"Income (₹)\" INTEGER,\n",
    "    \"Years in Job\" INTEGER,\n",
    "    \"Credit Score\" INTEGER,\n",
    "    \"Active Loans\" INTEGER,\n",
    "    \"Missed Payments (12M)\" INTEGER,\n",
    "    \"Loan Amount (₹)\" INTEGER,\n",
    "    \"LTV (%)\" INTEGER,\n",
    "    \"DTI (%)\" INTEGER,\n",
    "    \"Loan Tenure (yrs)\" INTEGER,\n",
    "    \"Repayment Type\" TEXT,\n",
    "    \"Co-applicant Present\" TEXT,\n",
    "    \"Co-applicant Income (₹)\" INTEGER,\n",
    "    \"Existing Customer\" TEXT,\n",
    "    \"Salary Account\" TEXT,\n",
    "    \"Base Rate Type\" TEXT,\n",
    "    \"Base Rate (%)\" REAL,\n",
    "    \"Dynamic Rate (%)\" REAL\n",
    ")\n",
    "'''\n",
    "cursor.execute(create_table_query)\n",
    "conn.commit()\n",
    "\n",
    "df.to_sql('home', conn, if_exists='append', index=False)\n",
    "\n",
    "cursor.execute(\"SELECT * FROM home LIMIT 5\")\n",
    "rows = cursor.fetchall()\n",
    "for row in rows:\n",
    "    print(row)\n",
    "\n",
    "conn.close()"
   ]
  },
  {
   "cell_type": "code",
   "execution_count": 9,
   "id": "19d61b02",
   "metadata": {},
   "outputs": [
    {
     "name": "stdout",
     "output_type": "stream",
     "text": [
      "<class 'pandas.core.frame.DataFrame'>\n",
      "RangeIndex: 10000 entries, 0 to 9999\n",
      "Data columns (total 11 columns):\n",
      " #   Column              Non-Null Count  Dtype  \n",
      "---  ------              --------------  -----  \n",
      " 0   Age                 10000 non-null  int64  \n",
      " 1   Gender              10000 non-null  object \n",
      " 2   Marital Status      10000 non-null  object \n",
      " 3   Employment          10000 non-null  object \n",
      " 4   Income (₹)          10000 non-null  int64  \n",
      " 5   FD Amount (₹)       10000 non-null  int64  \n",
      " 6   FD Tenure (yrs)     10000 non-null  int64  \n",
      " 7   Credit Score        10000 non-null  int64  \n",
      " 8   Base Rate (%)       10000 non-null  float64\n",
      " 9   BPS Adjustment (%)  10000 non-null  float64\n",
      " 10  Base Rate Type      10000 non-null  object \n",
      "dtypes: float64(2), int64(5), object(4)\n",
      "memory usage: 859.5+ KB\n"
     ]
    }
   ],
   "source": [
    "ds1=pd.read_csv(r\"C:\\Users\\guna5\\OneDrive\\Desktop\\HOME-LOAN\\DataSets\\Fixed_Deposit_6.75_BaseRate.csv\")\n",
    "ds1.info()"
   ]
  },
  {
   "cell_type": "code",
   "execution_count": 10,
   "id": "b38becfd",
   "metadata": {},
   "outputs": [
    {
     "name": "stdout",
     "output_type": "stream",
     "text": [
      "(69, 'Female', 'Married', 'Retired', 1503064, 628779, 5, 435, 6.75, 0.7, 'Floating')\n",
      "(32, 'Male', 'Married', 'Salaried', 1205934, 614535, 9, 840, 6.75, 0.64, 'Fixed')\n",
      "(89, 'Male', 'Married', 'Retired', 96770, 899994, 9, 841, 6.75, 0.71, 'Fixed')\n",
      "(78, 'Female', 'Married', 'Retired', 479115, 810447, 5, 547, 6.75, 1.04, 'Floating')\n",
      "(38, 'Female', 'Married', 'Salaried', 32941, 350279, 6, 519, 6.75, 0.39, 'Floating')\n"
     ]
    }
   ],
   "source": [
    "import pandas as pd\n",
    "import sqlite3\n",
    "import os\n",
    "\n",
    "csv_file = r\"C:\\Users\\guna5\\OneDrive\\Desktop\\HOME-LOAN\\DataSets\\Fixed_Deposit_6.75_BaseRate.csv\"\n",
    "df = pd.read_csv(csv_file)\n",
    "\n",
    "db_name = 'my_database.db'\n",
    "conn = sqlite3.connect(db_name)\n",
    "cursor = conn.cursor()\n",
    "\n",
    "create_table_query = '''\n",
    "CREATE TABLE fd (\n",
    "    Age INTEGER,\n",
    "    Gender TEXT,\n",
    "    \"Marital Status\" TEXT,\n",
    "    Employment TEXT,\n",
    "    \"Income (₹)\" INTEGER,\n",
    "    \"FD Amount (₹)\" INTEGER,\n",
    "    \"FD Tenure (yrs)\" INTEGER,\n",
    "    \"Credit Score\" INTEGER,\n",
    "    \"Base Rate (%)\" REAL,\n",
    "    \"BPS Adjustment (%)\" REAL,\n",
    "    \"Base Rate Type\" TEXT\n",
    ")\n",
    "'''\n",
    "cursor.execute(f'DROP TABLE IF EXISTS fd')\n",
    "cursor.execute(create_table_query)\n",
    "conn.commit()\n",
    "\n",
    "df.to_sql('fd', conn, if_exists='append', index=False)\n",
    "\n",
    "cursor.execute(\"SELECT * FROM fd LIMIT 5\")\n",
    "rows = cursor.fetchall()\n",
    "for row in rows:\n",
    "    print(row)\n",
    "\n",
    "conn.close()"
   ]
  },
  {
   "cell_type": "code",
   "execution_count": 11,
   "id": "ef4e08dc",
   "metadata": {},
   "outputs": [
    {
     "name": "stdout",
     "output_type": "stream",
     "text": [
      "📄 Tables in the database:\n",
      "- home\n",
      "- fd\n"
     ]
    }
   ],
   "source": [
    "import sqlite3\n",
    "\n",
    "db_name = 'my_database.db'\n",
    "conn = sqlite3.connect(db_name)\n",
    "cursor = conn.cursor()\n",
    "\n",
    "cursor.execute(\"SELECT name FROM sqlite_master WHERE type='table'\")\n",
    "tables = cursor.fetchall()\n",
    "\n",
    "print(\"📄 Tables in the database:\")\n",
    "for table in tables:\n",
    "    print(\"-\", table[0])\n",
    "\n",
    "conn.close()"
   ]
  },
  {
   "cell_type": "code",
   "execution_count": null,
   "id": "974fb493",
   "metadata": {},
   "outputs": [],
   "source": [
    "from sentence_transformers import SentenceTransformer\n",
    "import sqlite3\n",
    "import numpy as np\n",
    "import faiss\n",
    "\n",
    "model = SentenceTransformer(\"all-MiniLM-L6-v2\")\n",
    "\n",
    "conn = sqlite3.connect(\"my_database.db\")\n",
    "cursor = conn.cursor()\n",
    "\n",
    "cursor.execute(\"SELECT * FROM home;\")\n",
    "home_loan_data = cursor.fetchall()\n",
    "\n",
    "cursor.execute(\"SELECT * FROM fd;\")\n",
    "fd_data = cursor.fetchall()\n",
    "\n",
    "conn.close()\n",
    "\n",
    "all_data = home_loan_data + fd_data\n",
    "texts = [str(row) for row in all_data]\n",
    "embeddings = model.encode(texts)\n",
    "\n",
    "dimension = embeddings.shape[1]\n",
    "index = faiss.IndexFlatL2(dimension)\n",
    "index.add(np.array(embeddings))\n",
    "\n",
    "faiss.write_index(index, \"retrieval_index.faiss\")"
   ]
  }
 ],
 "metadata": {
  "kernelspec": {
   "display_name": "Python 3",
   "language": "python",
   "name": "python3"
  },
  "language_info": {
   "codemirror_mode": {
    "name": "ipython",
    "version": 3
   },
   "file_extension": ".py",
   "mimetype": "text/x-python",
   "name": "python",
   "nbconvert_exporter": "python",
   "pygments_lexer": "ipython3",
   "version": "3.10.5"
  }
 },
 "nbformat": 4,
 "nbformat_minor": 5
}
