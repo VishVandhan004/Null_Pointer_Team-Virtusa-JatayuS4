{
 "cells": [
  {
   "cell_type": "code",
   "execution_count": 1,
   "id": "1fcd4ed1",
   "metadata": {},
   "outputs": [],
   "source": [
    "import pandas as pd\n",
    "from sklearn.model_selection import train_test_split\n",
    "from sklearn.ensemble import RandomForestRegressor\n",
    "from sklearn.preprocessing import OneHotEncoder, StandardScaler\n",
    "from sklearn.compose import ColumnTransformer\n",
    "from sklearn.pipeline import Pipeline\n",
    "import joblib"
   ]
  },
  {
   "cell_type": "code",
   "execution_count": 2,
   "id": "003c4dfd",
   "metadata": {},
   "outputs": [],
   "source": [
    "df = pd.read_csv(r\"C:\\Users\\guna5\\OneDrive\\Desktop\\HOME-LOAN\\DataSets\\Fixed_Deposit_6.75_BaseRate.csv\")"
   ]
  },
  {
   "cell_type": "code",
   "execution_count": 3,
   "id": "9afbfa6a",
   "metadata": {},
   "outputs": [],
   "source": [
    "X = df.drop(columns=['BPS Adjustment (%)'])\n",
    "y = df['BPS Adjustment (%)']"
   ]
  },
  {
   "cell_type": "code",
   "execution_count": 4,
   "id": "c90ab7b2",
   "metadata": {},
   "outputs": [],
   "source": [
    "categorical_cols = ['Gender', 'Marital Status', 'Employment', 'Base Rate Type']\n",
    "numeric_cols = ['Age', 'Income (₹)', 'FD Amount (₹)', 'FD Tenure (yrs)', 'Credit Score', 'Base Rate (%)']"
   ]
  },
  {
   "cell_type": "code",
   "execution_count": 5,
   "id": "0ef6ec5d",
   "metadata": {},
   "outputs": [],
   "source": [
    "preprocessor = ColumnTransformer([\n",
    "    ('num', StandardScaler(), numeric_cols),\n",
    "    ('cat', OneHotEncoder(drop='first'), categorical_cols)\n",
    "])"
   ]
  },
  {
   "cell_type": "code",
   "execution_count": 6,
   "id": "b905909a",
   "metadata": {},
   "outputs": [],
   "source": [
    "model_pipeline = Pipeline([\n",
    "    ('preprocessor', preprocessor),\n",
    "    ('model', RandomForestRegressor(n_estimators=100, random_state=42))\n",
    "])"
   ]
  },
  {
   "cell_type": "code",
   "execution_count": 7,
   "id": "41053bfc",
   "metadata": {},
   "outputs": [],
   "source": [
    "X_train, X_test, y_train, y_test = train_test_split(X, y, test_size=0.2, random_state=42)"
   ]
  },
  {
   "cell_type": "code",
   "execution_count": 8,
   "id": "a4926d17",
   "metadata": {},
   "outputs": [
    {
     "data": {
      "text/plain": [
       "Pipeline(steps=[('preprocessor',\n",
       "                 ColumnTransformer(transformers=[('num', StandardScaler(),\n",
       "                                                  ['Age', 'Income (₹)',\n",
       "                                                   'FD Amount (₹)',\n",
       "                                                   'FD Tenure (yrs)',\n",
       "                                                   'Credit Score',\n",
       "                                                   'Base Rate (%)']),\n",
       "                                                 ('cat',\n",
       "                                                  OneHotEncoder(drop='first'),\n",
       "                                                  ['Gender', 'Marital Status',\n",
       "                                                   'Employment',\n",
       "                                                   'Base Rate Type'])])),\n",
       "                ('model', RandomForestRegressor(random_state=42))])"
      ]
     },
     "execution_count": 8,
     "metadata": {},
     "output_type": "execute_result"
    }
   ],
   "source": [
    "model_pipeline.fit(X_train, y_train)"
   ]
  },
  {
   "cell_type": "code",
   "execution_count": 9,
   "id": "ff3e8ca0",
   "metadata": {},
   "outputs": [
    {
     "data": {
      "text/plain": [
       "['fd_model.pkl']"
      ]
     },
     "execution_count": 9,
     "metadata": {},
     "output_type": "execute_result"
    }
   ],
   "source": [
    "fd_model_objects = {\n",
    "    'model': model_pipeline.named_steps['model'],\n",
    "    'scaler': model_pipeline.named_steps['preprocessor'].transformers_[0][1],  \n",
    "    'label_encoders': {},  \n",
    "    'categorical_columns': categorical_cols,\n",
    "    'feature_columns': X.columns.tolist()\n",
    "}\n",
    "\n",
    "joblib.dump(model_pipeline, 'fd_model.pkl')"
   ]
  },
  {
   "cell_type": "code",
   "execution_count": 10,
   "id": "218bbb1a",
   "metadata": {},
   "outputs": [
    {
     "name": "stdout",
     "output_type": "stream",
     "text": [
      "Model's expected feature columns: ['Age', 'Gender', 'Marital Status', 'Employment', 'Income (₹)', 'FD Amount (₹)', 'FD Tenure (yrs)', 'Credit Score', 'Base Rate (%)', 'Base Rate Type']\n"
     ]
    }
   ],
   "source": [
    "print(\"Model's expected feature columns:\", fd_model_objects['feature_columns'])"
   ]
  }
 ],
 "metadata": {
  "kernelspec": {
   "display_name": "Python 3",
   "language": "python",
   "name": "python3"
  },
  "language_info": {
   "codemirror_mode": {
    "name": "ipython",
    "version": 3
   },
   "file_extension": ".py",
   "mimetype": "text/x-python",
   "name": "python",
   "nbconvert_exporter": "python",
   "pygments_lexer": "ipython3",
   "version": "3.10.5"
  }
 },
 "nbformat": 4,
 "nbformat_minor": 5
}
