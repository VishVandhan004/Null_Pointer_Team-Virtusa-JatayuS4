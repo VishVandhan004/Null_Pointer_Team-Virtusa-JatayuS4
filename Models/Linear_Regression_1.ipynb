{
 "cells": [
  {
   "cell_type": "code",
   "execution_count": 1,
   "metadata": {},
   "outputs": [],
   "source": [
    "import numpy as np\n",
    "import pandas as pd\n",
    "import sklearn"
   ]
  },
  {
   "cell_type": "code",
   "execution_count": 2,
   "metadata": {},
   "outputs": [
    {
     "data": {
      "text/html": [
       "<div>\n",
       "<style scoped>\n",
       "    .dataframe tbody tr th:only-of-type {\n",
       "        vertical-align: middle;\n",
       "    }\n",
       "\n",
       "    .dataframe tbody tr th {\n",
       "        vertical-align: top;\n",
       "    }\n",
       "\n",
       "    .dataframe thead th {\n",
       "        text-align: right;\n",
       "    }\n",
       "</style>\n",
       "<table border=\"1\" class=\"dataframe\">\n",
       "  <thead>\n",
       "    <tr style=\"text-align: right;\">\n",
       "      <th></th>\n",
       "      <th>credit_score</th>\n",
       "      <th>years_with_bank</th>\n",
       "      <th>deposit_amount</th>\n",
       "      <th>repayment_history</th>\n",
       "      <th>market_trend</th>\n",
       "      <th>credit_score_adjustment</th>\n",
       "      <th>years_with_bank_adjustment</th>\n",
       "      <th>deposit_amount_adjustment</th>\n",
       "      <th>repayment_history_adjustment</th>\n",
       "      <th>market_trend_adjustment</th>\n",
       "      <th>final_interest_rate_adjustment_bps</th>\n",
       "      <th>adjusted_interest_rate</th>\n",
       "      <th>product_type</th>\n",
       "    </tr>\n",
       "  </thead>\n",
       "  <tbody>\n",
       "    <tr>\n",
       "      <th>0</th>\n",
       "      <td>452</td>\n",
       "      <td>8</td>\n",
       "      <td>36221300</td>\n",
       "      <td>good</td>\n",
       "      <td>falling</td>\n",
       "      <td>-84</td>\n",
       "      <td>43</td>\n",
       "      <td>93</td>\n",
       "      <td>-19</td>\n",
       "      <td>-29</td>\n",
       "      <td>4</td>\n",
       "      <td>7.54</td>\n",
       "      <td>Home Loans</td>\n",
       "    </tr>\n",
       "    <tr>\n",
       "      <th>1</th>\n",
       "      <td>785</td>\n",
       "      <td>6</td>\n",
       "      <td>69293176</td>\n",
       "      <td>excellent</td>\n",
       "      <td>falling</td>\n",
       "      <td>91</td>\n",
       "      <td>33</td>\n",
       "      <td>93</td>\n",
       "      <td>62</td>\n",
       "      <td>-42</td>\n",
       "      <td>237</td>\n",
       "      <td>9.87</td>\n",
       "      <td>Fixed Deposits</td>\n",
       "    </tr>\n",
       "    <tr>\n",
       "      <th>2</th>\n",
       "      <td>620</td>\n",
       "      <td>0</td>\n",
       "      <td>29728001</td>\n",
       "      <td>excellent</td>\n",
       "      <td>stable</td>\n",
       "      <td>2</td>\n",
       "      <td>2</td>\n",
       "      <td>77</td>\n",
       "      <td>89</td>\n",
       "      <td>18</td>\n",
       "      <td>188</td>\n",
       "      <td>9.38</td>\n",
       "      <td>Fixed Deposits</td>\n",
       "    </tr>\n",
       "    <tr>\n",
       "      <th>3</th>\n",
       "      <td>456</td>\n",
       "      <td>6</td>\n",
       "      <td>13024131</td>\n",
       "      <td>excellent</td>\n",
       "      <td>falling</td>\n",
       "      <td>-63</td>\n",
       "      <td>48</td>\n",
       "      <td>90</td>\n",
       "      <td>85</td>\n",
       "      <td>-42</td>\n",
       "      <td>118</td>\n",
       "      <td>8.68</td>\n",
       "      <td>Home Loans</td>\n",
       "    </tr>\n",
       "    <tr>\n",
       "      <th>4</th>\n",
       "      <td>421</td>\n",
       "      <td>6</td>\n",
       "      <td>72719057</td>\n",
       "      <td>excellent</td>\n",
       "      <td>rising</td>\n",
       "      <td>-65</td>\n",
       "      <td>28</td>\n",
       "      <td>67</td>\n",
       "      <td>57</td>\n",
       "      <td>33</td>\n",
       "      <td>120</td>\n",
       "      <td>8.70</td>\n",
       "      <td>Fixed Deposits</td>\n",
       "    </tr>\n",
       "  </tbody>\n",
       "</table>\n",
       "</div>"
      ],
      "text/plain": [
       "   credit_score  years_with_bank  deposit_amount repayment_history  \\\n",
       "0           452                8        36221300              good   \n",
       "1           785                6        69293176         excellent   \n",
       "2           620                0        29728001         excellent   \n",
       "3           456                6        13024131         excellent   \n",
       "4           421                6        72719057         excellent   \n",
       "\n",
       "  market_trend  credit_score_adjustment  years_with_bank_adjustment  \\\n",
       "0      falling                      -84                          43   \n",
       "1      falling                       91                          33   \n",
       "2       stable                        2                           2   \n",
       "3      falling                      -63                          48   \n",
       "4       rising                      -65                          28   \n",
       "\n",
       "   deposit_amount_adjustment  repayment_history_adjustment  \\\n",
       "0                         93                           -19   \n",
       "1                         93                            62   \n",
       "2                         77                            89   \n",
       "3                         90                            85   \n",
       "4                         67                            57   \n",
       "\n",
       "   market_trend_adjustment  final_interest_rate_adjustment_bps  \\\n",
       "0                      -29                                   4   \n",
       "1                      -42                                 237   \n",
       "2                       18                                 188   \n",
       "3                      -42                                 118   \n",
       "4                       33                                 120   \n",
       "\n",
       "   adjusted_interest_rate    product_type  \n",
       "0                    7.54      Home Loans  \n",
       "1                    9.87  Fixed Deposits  \n",
       "2                    9.38  Fixed Deposits  \n",
       "3                    8.68      Home Loans  \n",
       "4                    8.70  Fixed Deposits  "
      ]
     },
     "execution_count": 2,
     "metadata": {},
     "output_type": "execute_result"
    }
   ],
   "source": [
    "ds=pd.read_csv(\"credit_score_dataset_updated.csv\")\n",
    "df=pd.DataFrame(ds)\n",
    "df.head()"
   ]
  },
  {
   "cell_type": "code",
   "execution_count": 4,
   "metadata": {},
   "outputs": [
    {
     "data": {
      "text/html": [
       "<div>\n",
       "<style scoped>\n",
       "    .dataframe tbody tr th:only-of-type {\n",
       "        vertical-align: middle;\n",
       "    }\n",
       "\n",
       "    .dataframe tbody tr th {\n",
       "        vertical-align: top;\n",
       "    }\n",
       "\n",
       "    .dataframe thead th {\n",
       "        text-align: right;\n",
       "    }\n",
       "</style>\n",
       "<table border=\"1\" class=\"dataframe\">\n",
       "  <thead>\n",
       "    <tr style=\"text-align: right;\">\n",
       "      <th></th>\n",
       "      <th>credit_score</th>\n",
       "      <th>years_with_bank</th>\n",
       "      <th>deposit_amount</th>\n",
       "      <th>repayment_history</th>\n",
       "      <th>market_trend</th>\n",
       "      <th>credit_score_adjustment</th>\n",
       "      <th>years_with_bank_adjustment</th>\n",
       "      <th>deposit_amount_adjustment</th>\n",
       "      <th>repayment_history_adjustment</th>\n",
       "      <th>market_trend_adjustment</th>\n",
       "      <th>final_interest_rate_adjustment_bps</th>\n",
       "      <th>adjusted_interest_rate</th>\n",
       "      <th>product_type</th>\n",
       "    </tr>\n",
       "  </thead>\n",
       "  <tbody>\n",
       "    <tr>\n",
       "      <th>0</th>\n",
       "      <td>452</td>\n",
       "      <td>8</td>\n",
       "      <td>36221300</td>\n",
       "      <td>1</td>\n",
       "      <td>0</td>\n",
       "      <td>-84</td>\n",
       "      <td>43</td>\n",
       "      <td>93</td>\n",
       "      <td>-19</td>\n",
       "      <td>-29</td>\n",
       "      <td>4</td>\n",
       "      <td>7.54</td>\n",
       "      <td>1</td>\n",
       "    </tr>\n",
       "    <tr>\n",
       "      <th>1</th>\n",
       "      <td>785</td>\n",
       "      <td>6</td>\n",
       "      <td>69293176</td>\n",
       "      <td>0</td>\n",
       "      <td>0</td>\n",
       "      <td>91</td>\n",
       "      <td>33</td>\n",
       "      <td>93</td>\n",
       "      <td>62</td>\n",
       "      <td>-42</td>\n",
       "      <td>237</td>\n",
       "      <td>9.87</td>\n",
       "      <td>0</td>\n",
       "    </tr>\n",
       "    <tr>\n",
       "      <th>2</th>\n",
       "      <td>620</td>\n",
       "      <td>0</td>\n",
       "      <td>29728001</td>\n",
       "      <td>0</td>\n",
       "      <td>2</td>\n",
       "      <td>2</td>\n",
       "      <td>2</td>\n",
       "      <td>77</td>\n",
       "      <td>89</td>\n",
       "      <td>18</td>\n",
       "      <td>188</td>\n",
       "      <td>9.38</td>\n",
       "      <td>0</td>\n",
       "    </tr>\n",
       "    <tr>\n",
       "      <th>3</th>\n",
       "      <td>456</td>\n",
       "      <td>6</td>\n",
       "      <td>13024131</td>\n",
       "      <td>0</td>\n",
       "      <td>0</td>\n",
       "      <td>-63</td>\n",
       "      <td>48</td>\n",
       "      <td>90</td>\n",
       "      <td>85</td>\n",
       "      <td>-42</td>\n",
       "      <td>118</td>\n",
       "      <td>8.68</td>\n",
       "      <td>1</td>\n",
       "    </tr>\n",
       "    <tr>\n",
       "      <th>4</th>\n",
       "      <td>421</td>\n",
       "      <td>6</td>\n",
       "      <td>72719057</td>\n",
       "      <td>0</td>\n",
       "      <td>1</td>\n",
       "      <td>-65</td>\n",
       "      <td>28</td>\n",
       "      <td>67</td>\n",
       "      <td>57</td>\n",
       "      <td>33</td>\n",
       "      <td>120</td>\n",
       "      <td>8.70</td>\n",
       "      <td>0</td>\n",
       "    </tr>\n",
       "  </tbody>\n",
       "</table>\n",
       "</div>"
      ],
      "text/plain": [
       "   credit_score  years_with_bank  deposit_amount  repayment_history  \\\n",
       "0           452                8        36221300                  1   \n",
       "1           785                6        69293176                  0   \n",
       "2           620                0        29728001                  0   \n",
       "3           456                6        13024131                  0   \n",
       "4           421                6        72719057                  0   \n",
       "\n",
       "   market_trend  credit_score_adjustment  years_with_bank_adjustment  \\\n",
       "0             0                      -84                          43   \n",
       "1             0                       91                          33   \n",
       "2             2                        2                           2   \n",
       "3             0                      -63                          48   \n",
       "4             1                      -65                          28   \n",
       "\n",
       "   deposit_amount_adjustment  repayment_history_adjustment  \\\n",
       "0                         93                           -19   \n",
       "1                         93                            62   \n",
       "2                         77                            89   \n",
       "3                         90                            85   \n",
       "4                         67                            57   \n",
       "\n",
       "   market_trend_adjustment  final_interest_rate_adjustment_bps  \\\n",
       "0                      -29                                   4   \n",
       "1                      -42                                 237   \n",
       "2                       18                                 188   \n",
       "3                      -42                                 118   \n",
       "4                       33                                 120   \n",
       "\n",
       "   adjusted_interest_rate  product_type  \n",
       "0                    7.54             1  \n",
       "1                    9.87             0  \n",
       "2                    9.38             0  \n",
       "3                    8.68             1  \n",
       "4                    8.70             0  "
      ]
     },
     "execution_count": 4,
     "metadata": {},
     "output_type": "execute_result"
    }
   ],
   "source": [
    "from sklearn.preprocessing import LabelEncoder\n",
    "le=LabelEncoder()\n",
    "df['repayment_history']=le.fit_transform(df['repayment_history'])\n",
    "df['market_trend']=le.fit_transform(df['market_trend'])\n",
    "df['product_type']=le.fit_transform(df['product_type'])\n",
    "df.head()"
   ]
  },
  {
   "cell_type": "code",
   "execution_count": 16,
   "metadata": {},
   "outputs": [
    {
     "name": "stdout",
     "output_type": "stream",
     "text": [
      "['credit_score', 'years_with_bank', 'deposit_amount', 'repayment_history', 'market_trend', 'credit_score_adjustment', 'years_with_bank_adjustment', 'deposit_amount_adjustment', 'repayment_history_adjustment', 'market_trend_adjustment', 'final_interest_rate_adjustment_bps', 'product_type']\n",
      "adjusted_interest_rate\n"
     ]
    }
   ],
   "source": [
    "x=df.iloc[:, df.columns != 'adjusted_interest_rate']\n",
    "print(x.columns.tolist())\n",
    "y=df['adjusted_interest_rate']\n",
    "print(y.name)"
   ]
  },
  {
   "cell_type": "code",
   "execution_count": 25,
   "metadata": {},
   "outputs": [
    {
     "name": "stdout",
     "output_type": "stream",
     "text": [
      "         0         1         2         3         4         5         6   \\\n",
      "0 -1.088657 -0.279680 -0.482564  0.398379 -1.574306 -1.460530 -0.075153   \n",
      "1  1.000865 -0.625326  0.667679 -0.891709 -1.574306  1.581375 -0.358111   \n",
      "2 -0.034484 -1.662265 -0.708402 -0.891709  1.294589  0.034349 -1.235279   \n",
      "3 -1.063558 -0.625326 -1.289365 -0.891709 -1.574306 -1.095501  0.066325   \n",
      "4 -1.283177 -0.625326  0.786832 -0.891709 -0.139859 -1.130266 -0.499590   \n",
      "\n",
      "         7         8         9         10   11  \n",
      "0  1.208312 -0.707647 -1.308951 -1.372516  1.0  \n",
      "1  1.208312  0.646116 -1.729574  1.065502 -1.0  \n",
      "2  0.322996  1.097370  0.211761  0.552785 -1.0  \n",
      "3  1.042315  1.030518 -1.729574 -0.179666  1.0  \n",
      "4 -0.230326  0.562550  0.697094 -0.158739 -1.0  \n"
     ]
    }
   ],
   "source": [
    "from sklearn.preprocessing import StandardScaler\n",
    "ss=StandardScaler()\n",
    "X=ss.fit_transform(x)\n",
    "X=pd.DataFrame(X)\n",
    "print(X.head())"
   ]
  },
  {
   "cell_type": "code",
   "execution_count": null,
   "metadata": {},
   "outputs": [
    {
     "name": "stdout",
     "output_type": "stream",
     "text": [
      "(7000, 12)\n",
      "(3000, 12)\n",
      "(7000,)\n",
      "(3000,)\n"
     ]
    }
   ],
   "source": [
    "from sklearn.model_selection import train_test_split\n",
    "x_train,x_test,y_train,y_test=train_test_split(X,y,test_size=0.3,random_state=42)\n",
    "print(x_train.shape)\n",
    "print(x_test.shape)\n",
    "print(y_train.shape)\n",
    "print(y_test.shape)"
   ]
  },
  {
   "cell_type": "code",
   "execution_count": 27,
   "metadata": {},
   "outputs": [
    {
     "data": {
      "text/plain": [
       "LinearRegression()"
      ]
     },
     "execution_count": 27,
     "metadata": {},
     "output_type": "execute_result"
    }
   ],
   "source": [
    "from sklearn.linear_model import LinearRegression\n",
    "lr=LinearRegression()\n",
    "lr.fit(x_train,y_train)"
   ]
  },
  {
   "cell_type": "code",
   "execution_count": 28,
   "metadata": {},
   "outputs": [
    {
     "name": "stdout",
     "output_type": "stream",
     "text": [
      "[9.48650733 8.36948778 9.21581156 ... 8.68857284 8.94280761 9.70966248]\n"
     ]
    }
   ],
   "source": [
    "y_pred=lr.predict(x_test)\n",
    "print(y_pred)"
   ]
  },
  {
   "cell_type": "code",
   "execution_count": 29,
   "metadata": {},
   "outputs": [
    {
     "name": "stdout",
     "output_type": "stream",
     "text": [
      "0.05775011446628514\n",
      "0.1603738145727066\n",
      "0.9083412328580723\n"
     ]
    }
   ],
   "source": [
    "from sklearn.metrics import mean_absolute_error,mean_squared_error,r2_score\n",
    "print(mean_squared_error(y_test,y_pred))\n",
    "print(mean_absolute_error(y_test,y_pred))\n",
    "print(r2_score(y_test,y_pred))"
   ]
  },
  {
   "cell_type": "code",
   "execution_count": 30,
   "metadata": {},
   "outputs": [
    {
     "name": "stdout",
     "output_type": "stream",
     "text": [
      "Training R² Score: 0.8985761186822236\n",
      "Testing R² Score: 0.9083412328580723\n"
     ]
    }
   ],
   "source": [
    "from sklearn.metrics import r2_score\n",
    "\n",
    "# Predict on both training and testing sets\n",
    "y_train_pred = lr.predict(x_train)\n",
    "y_test_pred = lr.predict(x_test)\n",
    "\n",
    "# Compute R² score\n",
    "train_r2 = r2_score(y_train, y_train_pred)\n",
    "test_r2 = r2_score(y_test, y_test_pred)\n",
    "\n",
    "print(\"Training R² Score:\", train_r2)\n",
    "print(\"Testing R² Score:\", test_r2)\n"
   ]
  }
 ],
 "metadata": {
  "kernelspec": {
   "display_name": "Python 3",
   "language": "python",
   "name": "python3"
  },
  "language_info": {
   "codemirror_mode": {
    "name": "ipython",
    "version": 3
   },
   "file_extension": ".py",
   "mimetype": "text/x-python",
   "name": "python",
   "nbconvert_exporter": "python",
   "pygments_lexer": "ipython3",
   "version": "3.10.5"
  }
 },
 "nbformat": 4,
 "nbformat_minor": 2
}
