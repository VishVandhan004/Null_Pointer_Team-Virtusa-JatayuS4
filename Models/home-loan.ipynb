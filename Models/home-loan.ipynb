{
 "cells": [
  {
   "cell_type": "code",
   "execution_count": 1,
   "id": "b9780b4d-b5e5-4491-92a5-6a2de814efb6",
   "metadata": {},
   "outputs": [],
   "source": [
    "import pandas as pd\n",
    "from sklearn.model_selection import train_test_split\n",
    "from sklearn.preprocessing import LabelEncoder, StandardScaler\n",
    "from sklearn.ensemble import RandomForestRegressor\n",
    "import pickle"
   ]
  },
  {
   "cell_type": "code",
   "execution_count": 2,
   "id": "bc6a7a84-c626-474f-86a2-d4cb751c0ce7",
   "metadata": {},
   "outputs": [],
   "source": [
    "\n",
    "df = pd.read_csv(r\"C:\\Users\\guna5\\OneDrive\\Desktop\\HOME-LOAN\\DataSets\\updated-dataset.csv\")\n",
    "\n",
    "drop_cols = ['Base Rate (%)', 'Dynamic Rate (%)']\n",
    "X = df.drop(columns=drop_cols)\n",
    "y = df['Dynamic Rate (%)']\n"
   ]
  },
  {
   "cell_type": "code",
   "execution_count": 3,
   "id": "c3bb4b35",
   "metadata": {},
   "outputs": [
    {
     "data": {
      "text/plain": [
       "Index(['Age', 'Gender', 'Marital Status', 'Dependents', 'Employment',\n",
       "       'Income (₹)', 'Years in Job', 'Credit Score', 'Active Loans',\n",
       "       'Missed Payments (12M)', 'Loan Amount (₹)', 'LTV (%)', 'DTI (%)',\n",
       "       'Loan Tenure (yrs)', 'Repayment Type', 'Co-applicant Present',\n",
       "       'Co-applicant Income (₹)', 'Existing Customer', 'Salary Account',\n",
       "       'Base Rate Type', 'Base Rate (%)', 'Dynamic Rate (%)'],\n",
       "      dtype='object')"
      ]
     },
     "execution_count": 3,
     "metadata": {},
     "output_type": "execute_result"
    }
   ],
   "source": [
    "df.columns"
   ]
  },
  {
   "cell_type": "code",
   "execution_count": 4,
   "id": "8ccd6672",
   "metadata": {},
   "outputs": [
    {
     "data": {
      "text/plain": [
       "array(['Step-up EMI', 'Standard EMI'], dtype=object)"
      ]
     },
     "execution_count": 4,
     "metadata": {},
     "output_type": "execute_result"
    }
   ],
   "source": [
    "df['Repayment Type'].unique()"
   ]
  },
  {
   "cell_type": "code",
   "execution_count": 5,
   "id": "6f864aef-aa15-4250-a90a-0a4a9c1640ac",
   "metadata": {},
   "outputs": [],
   "source": [
    "\n",
    "cat_cols = X.select_dtypes(include=['object']).columns\n",
    "le_dict = {}\n",
    "for col in cat_cols:\n",
    "    le = LabelEncoder()\n",
    "    X[col] = le.fit_transform(X[col].astype(str))  \n",
    "    le_dict[col] = le\n",
    "\n",
    "scaler = StandardScaler()\n",
    "X_scaled = scaler.fit_transform(X)"
   ]
  },
  {
   "cell_type": "code",
   "execution_count": 6,
   "id": "0b8f758c-ef0c-4f73-bc44-08d06dbada30",
   "metadata": {},
   "outputs": [
    {
     "data": {
      "text/plain": [
       "RandomForestRegressor(random_state=42)"
      ]
     },
     "execution_count": 6,
     "metadata": {},
     "output_type": "execute_result"
    }
   ],
   "source": [
    "X_train, X_test, y_train, y_test = train_test_split(X_scaled, y, test_size=0.2, random_state=42)\n",
    "\n",
    "model = RandomForestRegressor(n_estimators=100, random_state=42)\n",
    "model.fit(X_train, y_train)"
   ]
  },
  {
   "cell_type": "code",
   "execution_count": 7,
   "id": "b4446846-031c-4600-a83a-4e2d5b8edeb0",
   "metadata": {},
   "outputs": [
    {
     "name": "stdout",
     "output_type": "stream",
     "text": [
      "\n",
      "Model Evaluation Metrics:\n",
      "Mean Absolute Error (MAE): 0.6698\n",
      "Root Mean Squared Error (RMSE): 0.8193\n",
      "R-squared (R²): 0.5960\n"
     ]
    }
   ],
   "source": [
    "from sklearn.metrics import *\n",
    "import numpy as np\n",
    "def evaluate_model(model, X_test, y_test):\n",
    "    y_pred = model.predict(X_test)\n",
    "    \n",
    "    mae = mean_absolute_error(y_test, y_pred)\n",
    "    rmse = np.sqrt(mean_squared_error(y_test, y_pred))\n",
    "    r2 = r2_score(y_test, y_pred)\n",
    "    \n",
    "    print(\"\\nModel Evaluation Metrics:\")\n",
    "    print(f\"Mean Absolute Error (MAE): {mae:.4f}\")\n",
    "    print(f\"Root Mean Squared Error (RMSE): {rmse:.4f}\")\n",
    "    print(f\"R-squared (R²): {r2:.4f}\")\n",
    "    \n",
    "    return mae, rmse, r2\n",
    "\n",
    "mae, rmse, r2 = evaluate_model(model, X_test, y_test)"
   ]
  },
  {
   "cell_type": "code",
   "execution_count": 8,
   "id": "5532fdbf-31ea-4a2f-9b48-8e0afc61bc43",
   "metadata": {},
   "outputs": [
    {
     "name": "stdout",
     "output_type": "stream",
     "text": [
      "\n",
      "Model and preprocessing objects saved to random_forest_model.pkl\n",
      "\n",
      "Model Performance Summary:\n",
      "- MAE on test set: 0.6698\n",
      "- RMSE on test set: 0.8193\n",
      "- R² on test set: 0.5960\n"
     ]
    }
   ],
   "source": [
    "model_objects = {\n",
    "    'model': model,\n",
    "    'scaler': scaler,\n",
    "    'label_encoders': le_dict,  \n",
    "    'feature_columns': list(X.columns),\n",
    "    'target_column': 'Dynamic Rate (%)',\n",
    "    'categorical_columns': list(cat_cols),\n",
    "    'evaluation_metrics': {\n",
    "        'MAE': mae,\n",
    "        'RMSE': rmse,\n",
    "        'R2': r2\n",
    "    }\n",
    "}\n",
    "\n",
    "with open('home_loan_model.pkl', 'wb') as f:\n",
    "    pickle.dump(model_objects, f, protocol=pickle.HIGHEST_PROTOCOL)\n",
    "\n",
    "print(\"\\nModel and preprocessing objects saved to random_forest_model.pkl\")\n",
    "print(\"\\nModel Performance Summary:\")\n",
    "print(f\"- MAE on test set: {mae:.4f}\")\n",
    "print(f\"- RMSE on test set: {rmse:.4f}\")\n",
    "print(f\"- R² on test set: {r2:.4f}\")"
   ]
  },
  {
   "cell_type": "code",
   "execution_count": 9,
   "id": "4374138a-23c7-4be8-b244-a60fd8210a76",
   "metadata": {},
   "outputs": [
    {
     "name": "stdout",
     "output_type": "stream",
     "text": [
      "Categorical columns with encoders: ['Gender', 'Marital Status', 'Employment', 'Repayment Type', 'Co-applicant Present', 'Existing Customer', 'Salary Account', 'Base Rate Type']\n",
      "\n",
      "Predicted Dynamic Rate: 6.84%\n"
     ]
    }
   ],
   "source": [
    "import pickle\n",
    "import pandas as pd\n",
    "\n",
    "def load_model(pickle_file):\n",
    "    with open(pickle_file, 'rb') as f:\n",
    "        return pickle.load(f)\n",
    "\n",
    "def make_prediction(model_objects, input_data):\n",
    "    model = model_objects['model']\n",
    "    scaler = model_objects['scaler']\n",
    "    label_encoders = model_objects['label_encoders']\n",
    "    feature_columns = model_objects['feature_columns']\n",
    "    cat_cols = model_objects.get('categorical_columns', [])\n",
    "\n",
    "    input_df = pd.DataFrame([input_data])[feature_columns]\n",
    "    \n",
    "    for col in cat_cols:\n",
    "        if col in label_encoders:\n",
    "            le = label_encoders[col]\n",
    "            input_df[col] = input_df[col].astype(str).apply(\n",
    "                lambda x: x if x in le.classes_ else le.classes_[0]\n",
    "            )\n",
    "            input_df[col] = le.transform(input_df[col])\n",
    "    \n",
    "    input_df = input_df.apply(pd.to_numeric, errors='raise')\n",
    "    \n",
    "    X_input = scaler.transform(input_df)\n",
    "    return model.predict(X_input)[0]\n",
    "\n",
    "if __name__ == \"__main__\":\n",
    "    model_objects = load_model('home_loan_model.pkl')\n",
    "    \n",
    "    print(\"Categorical columns with encoders:\", list(model_objects['label_encoders'].keys()))\n",
    "    \n",
    "    custom_input = {\n",
    "        'Age': 35,\n",
    "        'Gender': 'male',\n",
    "        'Marital Status': 'Single',\n",
    "        'Dependents': 1,\n",
    "        'Employment': 'Salaried',\n",
    "        'Income (₹)': 4500000,\n",
    "        'Years in Job': 25,\n",
    "        'Credit Score': 780,\n",
    "        'Active Loans': 2,\n",
    "        'Missed Payments (12M)': 0,\n",
    "        'Loan Amount (₹)': 1000000,\n",
    "        'LTV (%)': 70,\n",
    "        'DTI (%)': 30,\n",
    "        'Loan Tenure (yrs)': 35,\n",
    "        'Repayment Type': 'Standard EMI',\n",
    "        'Co-applicant Present': 'No',\n",
    "        'Co-applicant Income (₹)': 0,\n",
    "        'Existing Customer': 'Yes',\n",
    "        'Salary Account': 'Yes',\n",
    "        'Base Rate Type': 'Floating'\n",
    "    }\n",
    "    \n",
    "    try:\n",
    "        prediction = make_prediction(model_objects, custom_input)\n",
    "        print(f\"\\nPredicted Dynamic Rate: {prediction:.2f}%\")\n",
    "    except Exception as e:\n",
    "        print(f\"\\nPrediction failed: {str(e)}\")"
   ]
  }
 ],
 "metadata": {
  "kernelspec": {
   "display_name": "Python 3",
   "language": "python",
   "name": "python3"
  },
  "language_info": {
   "codemirror_mode": {
    "name": "ipython",
    "version": 3
   },
   "file_extension": ".py",
   "mimetype": "text/x-python",
   "name": "python",
   "nbconvert_exporter": "python",
   "pygments_lexer": "ipython3",
   "version": "3.10.5"
  }
 },
 "nbformat": 4,
 "nbformat_minor": 5
}
